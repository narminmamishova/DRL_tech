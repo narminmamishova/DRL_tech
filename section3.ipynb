{
 "cells": [
  {
   "cell_type": "code",
   "execution_count": 16,
   "metadata": {},
   "outputs": [],
   "source": [
    "import pandas as pd"
   ]
  },
  {
   "cell_type": "code",
   "execution_count": 17,
   "metadata": {},
   "outputs": [],
   "source": [
    "well1 = pd.read_csv('./Well1 BHP Data.csv')\n",
    "well2 = pd.read_csv(\"Well2 BHP Data.csv\")"
   ]
  },
  {
   "cell_type": "code",
   "execution_count": 18,
   "metadata": {},
   "outputs": [
    {
     "data": {
      "text/html": [
       "<div>\n",
       "<style scoped>\n",
       "    .dataframe tbody tr th:only-of-type {\n",
       "        vertical-align: middle;\n",
       "    }\n",
       "\n",
       "    .dataframe tbody tr th {\n",
       "        vertical-align: top;\n",
       "    }\n",
       "\n",
       "    .dataframe thead th {\n",
       "        text-align: right;\n",
       "    }\n",
       "</style>\n",
       "<table border=\"1\" class=\"dataframe\">\n",
       "  <thead>\n",
       "    <tr style=\"text-align: right;\">\n",
       "      <th></th>\n",
       "      <th>timestamp</th>\n",
       "      <th>dhp</th>\n",
       "    </tr>\n",
       "  </thead>\n",
       "  <tbody>\n",
       "    <tr>\n",
       "      <th>0</th>\n",
       "      <td>2015-03-14T08:16:11.300Z</td>\n",
       "      <td>4448.07000</td>\n",
       "    </tr>\n",
       "    <tr>\n",
       "      <th>1</th>\n",
       "      <td>2015-03-14T08:16:11.378Z</td>\n",
       "      <td>4448.06543</td>\n",
       "    </tr>\n",
       "    <tr>\n",
       "      <th>2</th>\n",
       "      <td>2015-03-14T09:04:53.200Z</td>\n",
       "      <td>4447.92000</td>\n",
       "    </tr>\n",
       "    <tr>\n",
       "      <th>3</th>\n",
       "      <td>2015-03-14T09:04:53.269Z</td>\n",
       "      <td>4447.91650</td>\n",
       "    </tr>\n",
       "    <tr>\n",
       "      <th>4</th>\n",
       "      <td>2015-03-14T10:04:45.100Z</td>\n",
       "      <td>4447.78000</td>\n",
       "    </tr>\n",
       "    <tr>\n",
       "      <th>...</th>\n",
       "      <td>...</td>\n",
       "      <td>...</td>\n",
       "    </tr>\n",
       "    <tr>\n",
       "      <th>7866701</th>\n",
       "      <td>2023-06-01T03:31:37.238Z</td>\n",
       "      <td>2318.30884</td>\n",
       "    </tr>\n",
       "    <tr>\n",
       "      <th>7866702</th>\n",
       "      <td>2023-06-01T03:37:05.208Z</td>\n",
       "      <td>2318.22266</td>\n",
       "    </tr>\n",
       "    <tr>\n",
       "      <th>7866703</th>\n",
       "      <td>2023-06-01T03:37:44.740Z</td>\n",
       "      <td>2318.18774</td>\n",
       "    </tr>\n",
       "    <tr>\n",
       "      <th>7866704</th>\n",
       "      <td>2023-06-01T03:40:57.647Z</td>\n",
       "      <td>2318.11816</td>\n",
       "    </tr>\n",
       "    <tr>\n",
       "      <th>7866705</th>\n",
       "      <td>2023-06-01T03:41:36.210Z</td>\n",
       "      <td>2318.08569</td>\n",
       "    </tr>\n",
       "  </tbody>\n",
       "</table>\n",
       "<p>7866706 rows × 2 columns</p>\n",
       "</div>"
      ],
      "text/plain": [
       "                        timestamp         dhp\n",
       "0        2015-03-14T08:16:11.300Z  4448.07000\n",
       "1        2015-03-14T08:16:11.378Z  4448.06543\n",
       "2        2015-03-14T09:04:53.200Z  4447.92000\n",
       "3        2015-03-14T09:04:53.269Z  4447.91650\n",
       "4        2015-03-14T10:04:45.100Z  4447.78000\n",
       "...                           ...         ...\n",
       "7866701  2023-06-01T03:31:37.238Z  2318.30884\n",
       "7866702  2023-06-01T03:37:05.208Z  2318.22266\n",
       "7866703  2023-06-01T03:37:44.740Z  2318.18774\n",
       "7866704  2023-06-01T03:40:57.647Z  2318.11816\n",
       "7866705  2023-06-01T03:41:36.210Z  2318.08569\n",
       "\n",
       "[7866706 rows x 2 columns]"
      ]
     },
     "execution_count": 18,
     "metadata": {},
     "output_type": "execute_result"
    }
   ],
   "source": [
    "well1"
   ]
  },
  {
   "cell_type": "code",
   "execution_count": 19,
   "metadata": {},
   "outputs": [
    {
     "data": {
      "text/html": [
       "<div>\n",
       "<style scoped>\n",
       "    .dataframe tbody tr th:only-of-type {\n",
       "        vertical-align: middle;\n",
       "    }\n",
       "\n",
       "    .dataframe tbody tr th {\n",
       "        vertical-align: top;\n",
       "    }\n",
       "\n",
       "    .dataframe thead th {\n",
       "        text-align: right;\n",
       "    }\n",
       "</style>\n",
       "<table border=\"1\" class=\"dataframe\">\n",
       "  <thead>\n",
       "    <tr style=\"text-align: right;\">\n",
       "      <th></th>\n",
       "      <th>timestamp</th>\n",
       "      <th>dhp</th>\n",
       "    </tr>\n",
       "  </thead>\n",
       "  <tbody>\n",
       "    <tr>\n",
       "      <th>0</th>\n",
       "      <td>2022-05-31T09:57:20.704Z</td>\n",
       "      <td>2659.31400</td>\n",
       "    </tr>\n",
       "    <tr>\n",
       "      <th>1</th>\n",
       "      <td>2022-05-31T09:57:57.251Z</td>\n",
       "      <td>2659.23877</td>\n",
       "    </tr>\n",
       "    <tr>\n",
       "      <th>2</th>\n",
       "      <td>2022-05-31T09:58:06.407Z</td>\n",
       "      <td>2659.13818</td>\n",
       "    </tr>\n",
       "    <tr>\n",
       "      <th>3</th>\n",
       "      <td>2022-05-31T09:58:15.595Z</td>\n",
       "      <td>2659.16333</td>\n",
       "    </tr>\n",
       "    <tr>\n",
       "      <th>4</th>\n",
       "      <td>2022-05-31T09:58:24.751Z</td>\n",
       "      <td>2659.26600</td>\n",
       "    </tr>\n",
       "    <tr>\n",
       "      <th>...</th>\n",
       "      <td>...</td>\n",
       "      <td>...</td>\n",
       "    </tr>\n",
       "    <tr>\n",
       "      <th>3351016</th>\n",
       "      <td>2022-05-31T09:56:16.641Z</td>\n",
       "      <td>2659.20679</td>\n",
       "    </tr>\n",
       "    <tr>\n",
       "      <th>3351017</th>\n",
       "      <td>2022-05-31T09:56:25.781Z</td>\n",
       "      <td>2659.33447</td>\n",
       "    </tr>\n",
       "    <tr>\n",
       "      <th>3351018</th>\n",
       "      <td>2022-05-31T09:56:53.203Z</td>\n",
       "      <td>2659.25684</td>\n",
       "    </tr>\n",
       "    <tr>\n",
       "      <th>3351019</th>\n",
       "      <td>2022-05-31T09:57:02.375Z</td>\n",
       "      <td>2659.16553</td>\n",
       "    </tr>\n",
       "    <tr>\n",
       "      <th>3351020</th>\n",
       "      <td>2022-05-31T09:57:11.547Z</td>\n",
       "      <td>2659.11743</td>\n",
       "    </tr>\n",
       "  </tbody>\n",
       "</table>\n",
       "<p>3351021 rows × 2 columns</p>\n",
       "</div>"
      ],
      "text/plain": [
       "                        timestamp         dhp\n",
       "0        2022-05-31T09:57:20.704Z  2659.31400\n",
       "1        2022-05-31T09:57:57.251Z  2659.23877\n",
       "2        2022-05-31T09:58:06.407Z  2659.13818\n",
       "3        2022-05-31T09:58:15.595Z  2659.16333\n",
       "4        2022-05-31T09:58:24.751Z  2659.26600\n",
       "...                           ...         ...\n",
       "3351016  2022-05-31T09:56:16.641Z  2659.20679\n",
       "3351017  2022-05-31T09:56:25.781Z  2659.33447\n",
       "3351018  2022-05-31T09:56:53.203Z  2659.25684\n",
       "3351019  2022-05-31T09:57:02.375Z  2659.16553\n",
       "3351020  2022-05-31T09:57:11.547Z  2659.11743\n",
       "\n",
       "[3351021 rows x 2 columns]"
      ]
     },
     "execution_count": 19,
     "metadata": {},
     "output_type": "execute_result"
    }
   ],
   "source": [
    "well2"
   ]
  },
  {
   "cell_type": "code",
   "execution_count": 20,
   "metadata": {},
   "outputs": [],
   "source": [
    "min_increase_requirement = 600\n",
    "min_duration_requirement = '2H'"
   ]
  },
  {
   "cell_type": "code",
   "execution_count": 21,
   "metadata": {},
   "outputs": [],
   "source": [
    "def find_interval(dataframe):\n",
    "    \n",
    "    dataframe['timestamp'] = pd.to_datetime(dataframe['timestamp'], format='ISO8601')\n",
    "    dataframe.set_index('timestamp', inplace=True)\n",
    "    dataframe.sort_index(inplace=True) # we should sort data to be sure that timestamp describe dhp column correctly\n",
    "    # data.sort_values(by=['timestamp'], ascending=True, inplace = True)\n",
    "    \n",
    "    intervals = []  \n",
    "    pressures = []\n",
    "    start_time = 0\n",
    "    for i in range(len(dataframe)):\n",
    "        if start_time == 0:\n",
    "            start_time = dataframe.index[i]\n",
    "            start_pressure = dataframe.iloc[i]['dhp']\n",
    "        end_time = dataframe.index[i]\n",
    "        end_pressure = dataframe.iloc[i]['dhp']\n",
    "        \n",
    "        if (end_pressure - start_pressure) >= min_increase_requirement and (end_time - start_time) >= pd.Timedelta(min_duration_requirement): #this line checks the requirements\n",
    "            intervals.append((start_time, end_time))\n",
    "            pressures.append((start_pressure, end_pressure))\n",
    "            start_time = 0 # now we shoulf ind next inretval\n",
    "        elif (end_time - start_time) >= pd.Timedelta(\"2H\"):\n",
    "            start_time = dataframe.index[i]\n",
    "            start_pressure = dataframe.iloc[i]['dhp']\n",
    "\n",
    "    intervals_df = pd.DataFrame(intervals, columns=['start_time', 'end_time'])  \n",
    "    pressures_df = pd.DataFrame(pressures, columns=['start_pressure', 'end_pressure'])  \n",
    "    return intervals_df,pressures_df\n"
   ]
  },
  {
   "cell_type": "code",
   "execution_count": 22,
   "metadata": {},
   "outputs": [
    {
     "name": "stderr",
     "output_type": "stream",
     "text": [
      "C:\\Users\\narmi\\AppData\\Local\\Temp\\ipykernel_11300\\3368799108.py:22: FutureWarning: 'H' is deprecated and will be removed in a future version. Please use 'h' instead of 'H'.\n",
      "  elif (end_time - start_time) >= pd.Timedelta(\"2H\"):\n",
      "C:\\Users\\narmi\\AppData\\Local\\Temp\\ipykernel_11300\\3368799108.py:18: FutureWarning: 'H' is deprecated and will be removed in a future version. Please use 'h' instead of 'H'.\n",
      "  if (end_pressure - start_pressure) >= min_increase_requirement and (end_time - start_time) >= pd.Timedelta(min_duration_requirement): #this line checks the requirements\n"
     ]
    },
    {
     "name": "stdout",
     "output_type": "stream",
     "text": [
      "                         start_time                         end_time\n",
      "0  2015-03-15 14:02:37.200000+00:00 2015-03-15 16:02:54.800000+00:00\n",
      "1  2015-03-16 13:08:48.100000+00:00 2015-03-16 15:08:50.600000+00:00\n",
      "2         2015-03-18 01:14:18+00:00 2015-03-18 03:14:18.500000+00:00\n",
      "3  2015-04-09 14:38:58.100000+00:00        2015-04-09 16:39:31+00:00\n",
      "4  2015-04-21 01:01:49.800000+00:00 2015-04-21 03:02:13.500000+00:00\n",
      "5  2015-07-04 03:35:58.800000+00:00 2015-07-04 05:35:58.900000+00:00\n",
      "6  2015-10-02 09:33:23.600000+00:00 2015-10-02 11:35:03.600000+00:00\n",
      "7  2015-10-13 21:54:19.100000+00:00 2015-10-13 23:54:22.400000+00:00\n",
      "8  2015-12-17 00:20:27.200000+00:00 2015-12-17 02:20:35.900000+00:00\n",
      "9  2016-02-28 03:43:47.900000+00:00        2016-02-28 05:43:48+00:00\n",
      "10 2016-04-12 20:42:55.288000+00:00 2016-04-12 22:43:13.304000+00:00\n",
      "11 2016-06-03 12:27:00.837000+00:00 2016-06-03 14:27:00.868000+00:00\n",
      "12 2016-09-25 12:01:05.300000+00:00 2016-09-25 14:01:30.400000+00:00\n",
      "13 2016-10-01 08:26:39.200000+00:00 2016-10-01 10:27:08.800000+00:00\n",
      "14 2016-12-26 18:18:38.300000+00:00 2016-12-26 20:18:49.300000+00:00\n",
      "15 2017-03-07 16:56:57.600000+00:00 2017-03-07 18:56:57.800000+00:00\n",
      "16 2017-03-24 16:06:39.400000+00:00 2017-03-24 18:07:11.700000+00:00\n",
      "17 2017-05-31 09:41:35.800000+00:00 2017-05-31 11:41:41.300000+00:00\n",
      "18 2017-08-25 01:08:37.900000+00:00        2017-08-25 03:08:59+00:00\n",
      "19 2017-08-25 05:10:08.900000+00:00 2017-08-25 07:10:33.100000+00:00\n",
      "20 2017-10-23 15:04:19.600000+00:00 2017-10-23 17:04:39.800000+00:00\n",
      "21 2017-11-23 22:19:06.900000+00:00 2017-11-24 00:19:40.600000+00:00\n",
      "22 2018-03-10 06:26:05.600000+00:00 2018-03-10 08:26:09.600000+00:00\n",
      "23 2018-04-17 22:47:43.900000+00:00 2018-04-18 00:47:46.700000+00:00\n",
      "24        2018-10-04 11:44:56+00:00 2018-10-04 13:45:26.700000+00:00\n",
      "25 2018-10-11 21:44:07.300000+00:00        2018-10-11 23:44:57+00:00\n",
      "26        2019-04-14 11:30:59+00:00 2019-04-14 13:31:20.600000+00:00\n",
      "27 2019-04-18 10:32:02.900000+00:00        2019-04-18 12:40:51+00:00\n",
      "28 2019-05-07 12:08:07.400000+00:00 2019-05-07 14:08:08.500000+00:00\n",
      "29 2019-08-18 00:18:08.300000+00:00 2019-08-18 02:18:08.500000+00:00\n",
      "30 2019-12-04 09:42:09.500000+00:00        2019-12-04 11:43:23+00:00\n",
      "31 2020-12-13 14:16:35.698000+00:00 2020-12-13 16:16:52.916000+00:00\n",
      "32 2021-09-27 12:53:09.700000+00:00 2021-09-27 14:53:10.200000+00:00\n",
      "33 2021-11-03 21:25:35.600000+00:00 2021-11-03 23:25:43.800000+00:00\n",
      "34 2021-11-10 10:23:53.600000+00:00 2021-11-10 12:24:46.700000+00:00\n",
      "35        2022-02-12 02:08:44+00:00 2022-02-12 04:09:44.900000+00:00\n",
      "36 2022-07-24 17:10:20.709000+00:00 2022-07-24 19:10:50.318000+00:00\n",
      "37 2022-10-19 21:37:11.151000+00:00 2022-10-19 23:37:38.073000+00:00\n"
     ]
    }
   ],
   "source": [
    "intervals_df1,pressures_df1 = find_interval(well1)\n",
    "print(intervals_df1)\n"
   ]
  },
  {
   "cell_type": "code",
   "execution_count": 23,
   "metadata": {},
   "outputs": [],
   "source": [
    "# pressures_df1['subtraction'] = pressures_df1.end_pressure - pressures_df1.start_pressure\n",
    "# pressures_df1"
   ]
  },
  {
   "cell_type": "code",
   "execution_count": 24,
   "metadata": {},
   "outputs": [
    {
     "name": "stderr",
     "output_type": "stream",
     "text": [
      "C:\\Users\\narmi\\AppData\\Local\\Temp\\ipykernel_11300\\3368799108.py:22: FutureWarning: 'H' is deprecated and will be removed in a future version. Please use 'h' instead of 'H'.\n",
      "  elif (end_time - start_time) >= pd.Timedelta(\"2H\"):\n",
      "C:\\Users\\narmi\\AppData\\Local\\Temp\\ipykernel_11300\\3368799108.py:18: FutureWarning: 'H' is deprecated and will be removed in a future version. Please use 'h' instead of 'H'.\n",
      "  if (end_pressure - start_pressure) >= min_increase_requirement and (end_time - start_time) >= pd.Timedelta(min_duration_requirement): #this line checks the requirements\n"
     ]
    },
    {
     "name": "stdout",
     "output_type": "stream",
     "text": [
      "                  start_time                  end_time\n",
      "0  2019-01-26 15:33:33+00:00 2019-01-26 17:34:56+00:00\n",
      "1  2019-02-04 14:15:10+00:00 2019-02-04 16:15:46+00:00\n",
      "2  2019-06-05 22:44:03+00:00 2019-06-06 00:44:05+00:00\n",
      "3  2019-07-06 15:12:31+00:00 2019-07-06 17:12:43+00:00\n",
      "4  2019-09-29 15:38:58+00:00 2019-09-29 17:39:04+00:00\n",
      "5  2019-10-08 12:36:57+00:00 2019-10-08 14:37:43+00:00\n",
      "6  2019-10-11 01:10:58+00:00 2019-10-11 03:11:04+00:00\n",
      "7  2019-10-21 10:27:45+00:00 2019-10-24 09:12:26+00:00\n",
      "8  2019-12-04 19:31:19+00:00 2019-12-04 21:31:26+00:00\n",
      "9  2020-02-16 06:31:57+00:00 2020-02-16 08:32:04+00:00\n",
      "10 2020-02-20 15:28:22+00:00 2020-02-20 18:07:05+00:00\n",
      "11 2020-06-05 15:26:43+00:00 2020-06-08 11:37:27+00:00\n"
     ]
    }
   ],
   "source": [
    "intervals_df2,pressures_df2 = find_interval(well2)\n",
    "print(intervals_df2) "
   ]
  },
  {
   "cell_type": "code",
   "execution_count": 25,
   "metadata": {},
   "outputs": [
    {
     "data": {
      "text/html": [
       "<div>\n",
       "<style scoped>\n",
       "    .dataframe tbody tr th:only-of-type {\n",
       "        vertical-align: middle;\n",
       "    }\n",
       "\n",
       "    .dataframe tbody tr th {\n",
       "        vertical-align: top;\n",
       "    }\n",
       "\n",
       "    .dataframe thead th {\n",
       "        text-align: right;\n",
       "    }\n",
       "</style>\n",
       "<table border=\"1\" class=\"dataframe\">\n",
       "  <thead>\n",
       "    <tr style=\"text-align: right;\">\n",
       "      <th></th>\n",
       "      <th>start_pressure</th>\n",
       "      <th>end_pressure</th>\n",
       "      <th>subtraction</th>\n",
       "    </tr>\n",
       "  </thead>\n",
       "  <tbody>\n",
       "    <tr>\n",
       "      <th>0</th>\n",
       "      <td>1698.242</td>\n",
       "      <td>2370.349</td>\n",
       "      <td>672.107</td>\n",
       "    </tr>\n",
       "    <tr>\n",
       "      <th>1</th>\n",
       "      <td>1555.013</td>\n",
       "      <td>2204.924</td>\n",
       "      <td>649.911</td>\n",
       "    </tr>\n",
       "    <tr>\n",
       "      <th>2</th>\n",
       "      <td>1562.611</td>\n",
       "      <td>2183.957</td>\n",
       "      <td>621.346</td>\n",
       "    </tr>\n",
       "    <tr>\n",
       "      <th>3</th>\n",
       "      <td>1786.386</td>\n",
       "      <td>2566.347</td>\n",
       "      <td>779.961</td>\n",
       "    </tr>\n",
       "    <tr>\n",
       "      <th>4</th>\n",
       "      <td>1603.329</td>\n",
       "      <td>2225.601</td>\n",
       "      <td>622.272</td>\n",
       "    </tr>\n",
       "    <tr>\n",
       "      <th>5</th>\n",
       "      <td>1671.902</td>\n",
       "      <td>2440.559</td>\n",
       "      <td>768.657</td>\n",
       "    </tr>\n",
       "    <tr>\n",
       "      <th>6</th>\n",
       "      <td>1650.515</td>\n",
       "      <td>2445.331</td>\n",
       "      <td>794.816</td>\n",
       "    </tr>\n",
       "    <tr>\n",
       "      <th>7</th>\n",
       "      <td>0.000</td>\n",
       "      <td>3079.566</td>\n",
       "      <td>3079.566</td>\n",
       "    </tr>\n",
       "    <tr>\n",
       "      <th>8</th>\n",
       "      <td>2014.857</td>\n",
       "      <td>2622.942</td>\n",
       "      <td>608.085</td>\n",
       "    </tr>\n",
       "    <tr>\n",
       "      <th>9</th>\n",
       "      <td>1764.776</td>\n",
       "      <td>2573.696</td>\n",
       "      <td>808.920</td>\n",
       "    </tr>\n",
       "    <tr>\n",
       "      <th>10</th>\n",
       "      <td>1826.908</td>\n",
       "      <td>2520.073</td>\n",
       "      <td>693.165</td>\n",
       "    </tr>\n",
       "    <tr>\n",
       "      <th>11</th>\n",
       "      <td>1410.347</td>\n",
       "      <td>2585.105</td>\n",
       "      <td>1174.758</td>\n",
       "    </tr>\n",
       "  </tbody>\n",
       "</table>\n",
       "</div>"
      ],
      "text/plain": [
       "    start_pressure  end_pressure  subtraction\n",
       "0         1698.242      2370.349      672.107\n",
       "1         1555.013      2204.924      649.911\n",
       "2         1562.611      2183.957      621.346\n",
       "3         1786.386      2566.347      779.961\n",
       "4         1603.329      2225.601      622.272\n",
       "5         1671.902      2440.559      768.657\n",
       "6         1650.515      2445.331      794.816\n",
       "7            0.000      3079.566     3079.566\n",
       "8         2014.857      2622.942      608.085\n",
       "9         1764.776      2573.696      808.920\n",
       "10        1826.908      2520.073      693.165\n",
       "11        1410.347      2585.105     1174.758"
      ]
     },
     "execution_count": 25,
     "metadata": {},
     "output_type": "execute_result"
    }
   ],
   "source": [
    "# pressures_df2['subtraction'] = pressures_df2.end_pressure - pressures_df2.start_pressure\n",
    "# pressures_df2"
   ]
  },
  {
   "cell_type": "code",
   "execution_count": null,
   "metadata": {},
   "outputs": [],
   "source": []
  },
  {
   "cell_type": "code",
   "execution_count": null,
   "metadata": {},
   "outputs": [],
   "source": []
  },
  {
   "cell_type": "code",
   "execution_count": null,
   "metadata": {},
   "outputs": [],
   "source": []
  },
  {
   "cell_type": "code",
   "execution_count": 27,
   "metadata": {},
   "outputs": [],
   "source": [
    "# print(pd.Timedelta('2h'))"
   ]
  },
  {
   "cell_type": "code",
   "execution_count": null,
   "metadata": {},
   "outputs": [],
   "source": [
    "# well1['timestamp'] = pd.to_datetime(well1['timestamp'], format='ISO8601')\n",
    "# well1.set_index('timestamp', inplace=True)"
   ]
  },
  {
   "cell_type": "code",
   "execution_count": null,
   "metadata": {},
   "outputs": [
    {
     "data": {
      "text/plain": [
       "str"
      ]
     },
     "execution_count": 14,
     "metadata": {},
     "output_type": "execute_result"
    }
   ],
   "source": [
    "# type(well2.iloc[0]['timestamp'])"
   ]
  },
  {
   "cell_type": "code",
   "execution_count": null,
   "metadata": {},
   "outputs": [
    {
     "data": {
      "text/plain": [
       "pandas.core.indexes.datetimes.DatetimeIndex"
      ]
     },
     "execution_count": 17,
     "metadata": {},
     "output_type": "execute_result"
    }
   ],
   "source": [
    "# type(well1.index)"
   ]
  }
 ],
 "metadata": {
  "kernelspec": {
   "display_name": "drl_task",
   "language": "python",
   "name": "python3"
  },
  "language_info": {
   "codemirror_mode": {
    "name": "ipython",
    "version": 3
   },
   "file_extension": ".py",
   "mimetype": "text/x-python",
   "name": "python",
   "nbconvert_exporter": "python",
   "pygments_lexer": "ipython3",
   "version": "3.10.14"
  }
 },
 "nbformat": 4,
 "nbformat_minor": 2
}
